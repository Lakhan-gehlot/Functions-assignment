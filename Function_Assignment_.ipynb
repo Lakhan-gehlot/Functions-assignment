{
  "nbformat": 4,
  "nbformat_minor": 0,
  "metadata": {
    "colab": {
      "provenance": []
    },
    "kernelspec": {
      "name": "python3",
      "display_name": "Python 3"
    },
    "language_info": {
      "name": "python"
    }
  },
  "cells": [
    {
      "cell_type": "markdown",
      "source": [
        "Theory Questions:"
      ],
      "metadata": {
        "id": "NYb6gHog7mDM"
      }
    },
    {
      "cell_type": "markdown",
      "source": [
        "Q.1) What is the difference between a function and a method in Python?\n",
        "\n",
        "ANS ;- In Python, both functions and methods are blocks of reusable code designed to perform specific tasks, but their key difference lies in their association with objects and classes.\n",
        "Function:\n",
        "A function is a standalone block of code that is defined independently and can be called from anywhere in the program without needing an object instance. It operates on data passed to it as arguments.\n",
        "Python\n",
        "\n",
        "# Function definition\n",
        "def greet(name):\n",
        "    return f\"Hello, {name}!\"\n",
        "\n",
        "# Function call\n",
        "message = greet(\"Alice\")\n",
        "print(message)\n",
        "Method:\n",
        "A method is a function that is defined within a class and is associated with an object (an instance of that class). Methods operate on the data (attributes) of the object they are called upon and typically take self as their first parameter, which refers to the instance of the class.\n",
        "Python\n",
        "\n",
        "# Class definition with a method\n",
        "class Dog:\n",
        "    def __init__(self, name):\n",
        "        self.name = name\n",
        "\n",
        "    # Method definition\n",
        "    def bark(self):\n",
        "        return f\"{self.name} says Woof!\"\n",
        "\n",
        "# Object creation and method call\n",
        "my_dog = Dog(\"Buddy\")\n",
        "sound = my_dog.bark()\n",
        "print(sound)"
      ],
      "metadata": {
        "id": "Vz0rRUIy-hP2"
      }
    },
    {
      "cell_type": "markdown",
      "source": [
        "Q.2) . Explain the concept of function arguments and parameters in Python.\n",
        "\n",
        "ANS:- In Python, the terms \"parameters\" and \"arguments\" are fundamental to understanding how functions receive and process data.\n",
        "Parameters are the variables defined within the parentheses of a function's definition. They act as placeholders for the values that the function expects to receive when it is called.\n",
        "Arguments are the actual values or expressions passed into a function when it is called. These values are assigned to the corresponding parameters within the function's scope.\n",
        "Example:\n",
        "Python\n",
        "\n",
        "# Function definition with parameters 'name' and 'age'\n",
        "def greet_person(name, age):\n",
        "    print(f\"Hello, {name}! You are {age} years old.\")\n",
        "\n",
        "# Function call with arguments \"Alice\" and 30\n",
        "greet_person(\"Alice\", 30)\n",
        "\n",
        "# Another function call with different arguments\n",
        "greet_person(\"Bob\", 25)\n"
      ],
      "metadata": {
        "id": "erqLYoGS-_wT"
      }
    },
    {
      "cell_type": "code",
      "execution_count": null,
      "metadata": {
        "id": "eVD0dERL7fwz"
      },
      "outputs": [],
      "source": [
        "Q.3)  What are the different ways to define and call a function in Python?\n",
        "\n",
        "ANS;- In Python, functions are defined using the def keyword and called by their name followed by parentheses.\n",
        "1. Defining a Function:\n",
        "The basic syntax for defining a function is:\n",
        "Python\n",
        "\n",
        "def function_name(parameter1, parameter2, ...):\n",
        "    \"\"\"Docstring: This describes what the function does.\"\"\"\n",
        "    # Function body - indented code block\n",
        "    statement1\n",
        "    statement2\n",
        "    # ...\n",
        "    return value  # Optional: returns a value\n",
        "def keyword: Initiates the function definition.\n",
        "function_name: A descriptive name for the function (follows Python naming conventions).\n",
        "(): Parentheses enclosing optional parameters.\n",
        "Parameters: Placeholders for values that will be passed into the function when it's called.\n",
        ":: A colon marks the end of the function header.\n",
        "Indented code block: The body of the function, containing the statements to be executed when the function is called.\n",
        "return statement (optional): Used to send a value back to the caller. If omitted, the function implicitly returns None.\n",
        "Example:\n",
        "Python\n",
        "\n",
        "def greet(name):\n",
        "    \"\"\"This function greets the person passed as an argument.\"\"\"\n",
        "    print(f\"Hello, {name}!\")\n",
        "\n",
        "def add_numbers(a, b):\n",
        "    \"\"\"This function adds two numbers and returns their sum.\"\"\"\n",
        "    return a + b\n",
        "2. Calling a Function:\n",
        "To execute the code within a function, you call it by its name followed by parentheses. If the function expects parameters, you provide arguments (actual values)\n",
        "inside the parentheses.\n",
        "\n",
        "\n",
        "Example:\n",
        "Python\n",
        "\n",
        "# Calling a function without arguments\n",
        "greet(\"Alice\")  # Output: Hello, Alice!\n",
        "\n",
        "# Calling a function with arguments and storing the returned value\n",
        "result = add_numbers(5, 3)\n",
        "print(result)  # Output: 8"
      ]
    },
    {
      "cell_type": "markdown",
      "source": [
        "Q.4) What is the purpose of the `return` statement in a Python function?\n",
        "\n",
        "ANS:- The return statement can be used to send one or more values back to the caller of the function. This allows the function to produce output that can be used by other parts of the program, such as being stored in a variable, used in further calculations, or passed as an argument to another function. If no value or expression is specified after return, or if the return statement is omitted entirely, the function implicitly returns None.\n",
        "Example:\n",
        "Python\n",
        "\n",
        "def calculate_area(length, width):\n",
        "    \"\"\"\n",
        "    Calculates the area of a rectangle.\n",
        "    \"\"\"\n",
        "    area = length * width\n",
        "    return area  # Returns the calculated area\n",
        "\n",
        "def greet_user(name):\n",
        "    \"\"\"\n",
        "    Prints a greeting message.\n",
        "    \"\"\"\n",
        "    print(f\"Hello, {name}!\")\n",
        "    # This function does not explicitly return a value, so it implicitly returns None\n",
        "\n",
        "# Calling the function with a return statement\n",
        "rectangle_area = calculate_area(5, 10)\n",
        "print(f\"The area of the rectangle is: {rectangle_area}\")\n",
        "\n",
        "# Calling the function without an explicit return value\n",
        "greet_user(\"Alice\")"
      ],
      "metadata": {
        "id": "-8cfKfk7_ocN"
      }
    },
    {
      "cell_type": "markdown",
      "source": [
        "Q.5) What are iterators in Python and how do they differ from iterables?\n",
        "\n",
        "ANS;- In Python, iterables and iterators are distinct but related concepts fundamental to how loops and data traversal work.\n",
        "An iterable is any object that can be looped over or iterated through. This means it can return its members one at a time. Common examples of iterables include lists, tuples, strings, dictionaries, and sets. For an object to be iterable, its class must define either an __iter__() method, which returns an iterator, or a __getitem__() method, which allows access by sequential indices starting from zero.\n",
        "An iterator is an object that represents a stream of data and allows sequential access to the elements of an iterable. It maintains an internal state to keep track of the current position during iteration. An iterator implements the iterator protocol, which consists of two methods:\n",
        "__iter__(): Returns the iterator object itself.\n",
        "__next__(): Returns the next item from the iteration. If there are no more items, it raises a StopIteration exception.\n",
        "Key Differences:\n",
        "Ability to be iterated over:\n",
        "All iterators are iterables, but not all iterables are iterators. An iterable can be converted into an iterator using the built-in iter() function.\n",
        "Statefulness:\n",
        "Iterators maintain a state, remembering their current position in the sequence, while iterables do not inherently maintain a state for iteration.\n",
        "Methods:\n",
        "Iterators implement __iter__() and __next__(). Iterables typically implement __iter__() or __getitem__().\n",
        "Example:\n",
        "Python\n",
        "\n",
        "# An iterable (a list)\n",
        "my_list = [1, 2, 3]\n",
        "\n",
        "# Create an iterator from the iterable\n",
        "my_iterator = iter(my_list)\n",
        "\n",
        "# Access elements using the iterator's __next__() method\n",
        "print(next(my_iterator))  # Output: 1\n",
        "print(next(my_iterator))  # Output: 2\n",
        "print(next(my_iterator))  # Output: 3\n",
        "\n",
        "# Attempting to get the next element after exhaustion raises StopIteration\n",
        "try:\n",
        "    print(next(my_iterator))\n",
        "except StopIteration:\n",
        "    print(\"End of iteration.\")\n",
        "\n",
        "# Using a for loop (which implicitly handles iterables and iterators)\n",
        "for item in my_list:\n",
        "    print(item)"
      ],
      "metadata": {
        "id": "_fTYp0zoAJ3z"
      }
    },
    {
      "cell_type": "markdown",
      "source": [
        "Q.6)  Explain the concept of generators in Python and how they are defined?\n",
        "\n",
        "ANS:- In Python, a generator is a function that produces a sequence of values using the yield keyword, instead of returning a single value and terminating like a regular function. Generators are memory-efficient, especially when dealing with large or infinite data sets, because they generate values on demand, one at a time, rather than creating the entire sequence in memory at once.\n",
        "How Generators are Defined:\n",
        "A generator function is defined like a regular function, but instead of using return to send back a value, it uses yield. When a generator function is called, it doesn't execute the function body immediately. Instead, it returns a generator object. This object is an iterator, and calling its next() method (or using it in a for loop) causes the generator function to execute until it hits a yield statement. The value yielded is then returned, and the generator's state is saved so that the next call to next() will resume execution from where it left off.\n",
        "Example:\n",
        "Python\n",
        "\n",
        "def even_number_generator(limit):\n",
        "  \"\"\"\n",
        "  Generates even numbers up to a specified limit.\n",
        "  \"\"\"\n",
        "  n = 0\n",
        "  while n <= limit:\n",
        "    if n % 2 == 0:\n",
        "      yield n\n",
        "    n += 1\n",
        "\n",
        "# Using the generator\n",
        "for number in even_number_generator(10):\n",
        "  print(number)"
      ],
      "metadata": {
        "id": "lWbs2Rd0Ac5W"
      }
    },
    {
      "cell_type": "markdown",
      "source": [
        "Q.7) What are the advantages of using generators over regular functions?\n",
        "\n",
        "ANS;- Generators offer several advantages over regular functions, particularly when dealing with sequences of data or iterative processes. The primary benefits include:\n",
        "Memory Efficiency (Lazy Evaluation): Generators produce values one at a time, on demand, rather than computing and storing an entire sequence in memory upfront. This is crucial for handling large datasets or potentially infinite sequences, preventing memory exhaustion.\n",
        "Example (Python):\n",
        "Python\n",
        "\n",
        "        def generate_large_numbers(n):\n",
        "            for i in range(n):\n",
        "                yield i # Yields one number at a time\n",
        "\n",
        "        # Using a generator for memory efficiency\n",
        "        for num in generate_large_numbers(10**6):\n",
        "            # Process each number without storing all 1 million in memory\n",
        "            pass\n",
        "\n",
        "        # Contrast with a regular function returning a list (less memory efficient for large n)\n",
        "        def create_large_list(n):\n",
        "            return list(range(n))\n",
        "        # large_list = create_large_list(10**6) # This would consume significant m"
      ],
      "metadata": {
        "id": "vDJv9QP-A0Aq"
      }
    },
    {
      "cell_type": "markdown",
      "source": [
        "Q.8)  What is a lambda function in Python and when is it typically used?\n",
        "\n",
        "ANS:- In Python, a lambda function is a small, anonymous function defined without a name using the lambda keyword. It can take any number of arguments but only has one expression. They are often used for simple, single-line operations, especially when passing functions as arguments to other functions like map, filter, and sorted.\n",
        "Syntax:\n",
        "Python\n",
        "\n",
        "lambda arguments: expression\n",
        "Example:\n",
        "Python\n",
        "\n",
        "# A regular function to add two numbers\n",
        "def add_numbers(x, y):\n",
        "    return x + y\n",
        "\n",
        "# Equivalent lambda function\n",
        "add_numbers_lambda = lambda x, y: x + y\n",
        "\n",
        "print(add_numbers(5, 3))       # Output: 8\n",
        "print(add_numbers_lambda(5, 3)) # Output: 8"
      ],
      "metadata": {
        "id": "dfIf7zfiBSXf"
      }
    },
    {
      "cell_type": "markdown",
      "source": [
        "Q.9) Explain the purpose and usage of the `map()` function in Python.?\n",
        "\n",
        "ANS:- The map() function in Python serves the purpose of applying a specified function to each item in an iterable (such as a list, tuple, or set) and returning an iterator that yields the results. It provides a concise and efficient way to transform elements within an iterable without explicitly writing a loop.\n",
        "Syntax:\n",
        "Python\n",
        "\n",
        "map(function, iterable, ...)\n",
        "function: The function to be applied to each item of the iterable(s). This can be a built-in function, a user-defined function, or a lambda function.\n",
        "iterable: One or more iterable objects whose elements will be passed as arguments to the function. If multiple iterables are provided, the function must accept a corresponding number of arguments, and map() will process elements from each iterable in parallel until the shortest iterable is exhausted.\n",
        "Usage Example:\n",
        "To square each number in a list using map():\n",
        "Python\n",
        "\n",
        "def square(number):\n",
        "  \"\"\"Calculates the square of a number.\"\"\"\n",
        "  return number * number\n",
        "\n",
        "numbers = [1, 2, 3, 4, 5]\n",
        "\n",
        "# Apply the square function to each number in the list\n",
        "squared_numbers_map_object = map(square, numbers)\n",
        "\n",
        "# Convert the map object to a list to view the results\n",
        "squared_numbers_list = list(squared_numbers_map_object)\n",
        "\n",
        "print(f\"Original numbers: {numbers}\")\n",
        "print(f\"Squared numbers (using map()): {squared_numbers_list}\")\n",
        "\n",
        "# Using a lambda function for a more concise approach:\n",
        "squared_numbers_lambda = list(map(lambda x: x**2, numbers))\n",
        "print(f\"Squared numbers (using lambda with map()): {squared_numbers_lambda}\")"
      ],
      "metadata": {
        "id": "wVMfg7vBCIEM"
      }
    },
    {
      "cell_type": "markdown",
      "source": [
        "Q.10) What is the difference between `map()`, `reduce()`, and `filter()` functions in Python?\n",
        "\n",
        "ANS;- The map(), filter(), and reduce() functions in Python are higher-order functions used for processing iterables, each serving a distinct purpose:\n",
        "map():\n",
        "Purpose: Applies a given function to each item in an iterable and returns a map object (an iterator) containing the results. It transforms each element independently.\n",
        "Example: Squaring each number in a list.\n",
        "Python\n",
        "\n",
        "        numbers = [1, 2, 3, 4]\n",
        "        squared_numbers = map(lambda x: x * x, numbers)\n",
        "        print(list(squared_numbers)) # Output: [1, 4, 9, 16]\n",
        "filter():\n",
        "Purpose: Constructs an iterator from elements of an iterable for which a function returns True. It selectively includes elements based on a condition.\n",
        "Example: Filtering out even numbers from a list.\n",
        "Python\n",
        "\n",
        "        numbers = [1, 2, 3, 4, 5, 6]\n",
        "        even_numbers = filter(lambda x: x % 2 == 0, numbers)\n",
        "        print(list(even_numbers)) # Output: [2, 4, 6]\n",
        "reduce():\n",
        "Purpose: Applies a function of two arguments cumulatively to the items of an iterable, from left to right, so as to reduce the iterable to a single value. It requires importing from the functools module.\n",
        "Example: Calculating the sum of all elements in a list.\n",
        "Python\n",
        "\n",
        "        from functools import reduce\n",
        "\n",
        "        numbers = [1, 2, 3, 4]\n",
        "        sum_of_numbers = reduce(lambda x, y: x + y, numbers)\n",
        "        print(sum_of_numbers) # Output: 10\n",
        "\n"
      ],
      "metadata": {
        "id": "LmP7CK0hCZzY"
      }
    },
    {
      "cell_type": "markdown",
      "source": [
        "Practical Questions:--\n"
      ],
      "metadata": {
        "id": "3IcVgbioCr7Q"
      }
    },
    {
      "cell_type": "code",
      "source": [
        "#Q.1)  Write a Python function that takes a list of numbers as input and returns the sum of all even numbers in\n",
        "the list.\n",
        "\n",
        "\n",
        "ANS ;- def sum_even_numbers(numbers):\n",
        "    \"\"\"\n",
        "    Calculates the sum of all even numbers in a list.\n",
        "\n",
        "    Args:\n",
        "      numbers: A list of numbers.\n",
        "\n",
        "    Returns:\n",
        "      The sum of all even numbers in the list.\n",
        "    \"\"\"\n",
        "    total = 0\n",
        "    for number in numbers:\n",
        "        if number % 2 == 0:\n",
        "            total += number\n",
        "    return total"
      ],
      "metadata": {
        "colab": {
          "base_uri": "https://localhost:8080/",
          "height": 106
        },
        "id": "xAE-T8Ay6GaI",
        "outputId": "0bf88145-def5-4b6c-885b-3cadf54a8d22"
      },
      "execution_count": 2,
      "outputs": [
        {
          "output_type": "error",
          "ename": "SyntaxError",
          "evalue": "invalid syntax (ipython-input-2-993592696.py, line 2)",
          "traceback": [
            "\u001b[0;36m  File \u001b[0;32m\"/tmp/ipython-input-2-993592696.py\"\u001b[0;36m, line \u001b[0;32m2\u001b[0m\n\u001b[0;31m    the list.\u001b[0m\n\u001b[0m        ^\u001b[0m\n\u001b[0;31mSyntaxError\u001b[0m\u001b[0;31m:\u001b[0m invalid syntax\n"
          ]
        }
      ]
    },
    {
      "cell_type": "code",
      "source": [
        "#Q.2)  Create a Python function that accepts a string and returns the reverse of that string.?\n",
        "\n",
        "def reverse_string(input_string):\n",
        "    return input_string[::-1]\n"
      ],
      "metadata": {
        "colab": {
          "base_uri": "https://localhost:8080/",
          "height": 106
        },
        "id": "3eTqB2NM6XFM",
        "outputId": "850baad3-941d-409e-99e4-b98fb49f21f3"
      },
      "execution_count": 4,
      "outputs": [
        {
          "output_type": "error",
          "ename": "SyntaxError",
          "evalue": "invalid syntax (ipython-input-4-3880729009.py, line 3)",
          "traceback": [
            "\u001b[0;36m  File \u001b[0;32m\"/tmp/ipython-input-4-3880729009.py\"\u001b[0;36m, line \u001b[0;32m3\u001b[0m\n\u001b[0;31m    ANS ;- def reverse_string(hello):\u001b[0m\n\u001b[0m           ^\u001b[0m\n\u001b[0;31mSyntaxError\u001b[0m\u001b[0;31m:\u001b[0m invalid syntax\n"
          ]
        }
      ]
    },
    {
      "cell_type": "code",
      "source": [
        "#Q.3) Implement a Python function that takes a list of integers and returns a new list containing the squares of\n",
        "each number.\n",
        "\n",
        "def square_list(numbers):\n",
        "\n",
        "  return [number ** 2 for number in numbers]"
      ],
      "metadata": {
        "colab": {
          "base_uri": "https://localhost:8080/",
          "height": 106
        },
        "id": "EI2UVGnI71O5",
        "outputId": "f676d609-9c17-450d-83c2-bda25cb33767"
      },
      "execution_count": 6,
      "outputs": [
        {
          "output_type": "error",
          "ename": "SyntaxError",
          "evalue": "invalid syntax (ipython-input-6-3395273655.py, line 2)",
          "traceback": [
            "\u001b[0;36m  File \u001b[0;32m\"/tmp/ipython-input-6-3395273655.py\"\u001b[0;36m, line \u001b[0;32m2\u001b[0m\n\u001b[0;31m    each number.\u001b[0m\n\u001b[0m         ^\u001b[0m\n\u001b[0;31mSyntaxError\u001b[0m\u001b[0;31m:\u001b[0m invalid syntax\n"
          ]
        }
      ]
    },
    {
      "cell_type": "code",
      "source": [
        "#Q.4) Write a Python function that checks if a given number is prime or not from 1 to 200.\n",
        "\n",
        "import math\n",
        "\n",
        "def is_prime(num):\n",
        "    \"\"\"\n",
        "    Checks if a given number is prime.\n",
        "\n",
        "    Args:\n",
        "        num (int): The number to check for primality.\n",
        "\n",
        "    Returns:\n",
        "        bool: True if the number is prime, False otherwise.\n",
        "    \"\"\"\n",
        "    if num <= 1:\n",
        "        return False  # Numbers less than or equal to 1 are not prime\n",
        "\n",
        "    # Check for divisibility from 2 up to the square root of num\n",
        "    # We only need to check up to the square root because if a number\n",
        "    # has a divisor greater than its square root, it must also have\n",
        "    # a divisor smaller than its square root.\n",
        "    for i in range(2, int(math.sqrt(num)) + 1):\n",
        "        if num % i == 0:\n",
        "            return False  # If divisible, it's not prime\n",
        "    return True  # If no divisors found, it's prime\n",
        "\n",
        "# Example usage for numbers from 1 to 200\n",
        "# for number in range(1, 201):\n",
        "#     if is_prime(number):\n",
        "#         print(f\"{number} is prime\")\n",
        "#     else:\n",
        "#         print(f\"{number} is not prime\")\n"
      ],
      "metadata": {
        "id": "nMO9oY-m8Sqp"
      },
      "execution_count": 11,
      "outputs": []
    },
    {
      "cell_type": "code",
      "source": [
        "#Q.5)  Create an iterator class in Python that generates the Fibonacci sequence up to a specified number of\n",
        "terms.\n",
        "\n",
        "\n",
        "class FibonacciIterator:\n",
        "    def __init__(self, num_terms):\n",
        "        if not isinstance(num_terms, int) or num_terms < 0:\n",
        "            raise ValueError(\"Number of terms must be a non-negative integer.\")\n",
        "        self._num_terms = num_terms\n",
        "        self._a = 0\n",
        "        self._b = 1\n",
        "        self._count = 0\n",
        "\n",
        "    def __iter__(self):\n",
        "        return self\n",
        "\n",
        "    def __next__(self):\n",
        "        if self._count < self._num_terms:\n",
        "            if self._count == 0:\n",
        "                self._count += 1\n",
        "                return self._a\n",
        "            elif self._count == 1:\n",
        "                self._count += 1\n",
        "                return self._b\n",
        "            else:\n",
        "                next_fib = self._a + self._b\n",
        "                self._a = self._b\n",
        "                self._b = next_fib\n",
        "                self._count += 1\n",
        "                return next_fib\n",
        "        else:\n",
        "            raise StopIteration\n",
        "\n",
        "# Example usage:\n",
        "fib_gen = FibonacciIterator(10)\n",
        "for num in fib_gen:\n",
        "    print(num)"
      ],
      "metadata": {
        "colab": {
          "base_uri": "https://localhost:8080/",
          "height": 106
        },
        "id": "XVskJvTO9UnM",
        "outputId": "c5a3b5a0-7e17-4cea-cc8e-0e6b8a292976"
      },
      "execution_count": 9,
      "outputs": [
        {
          "output_type": "error",
          "ename": "SyntaxError",
          "evalue": "invalid syntax (ipython-input-9-1111035145.py, line 2)",
          "traceback": [
            "\u001b[0;36m  File \u001b[0;32m\"/tmp/ipython-input-9-1111035145.py\"\u001b[0;36m, line \u001b[0;32m2\u001b[0m\n\u001b[0;31m    terms.\u001b[0m\n\u001b[0m          ^\u001b[0m\n\u001b[0;31mSyntaxError\u001b[0m\u001b[0;31m:\u001b[0m invalid syntax\n"
          ]
        }
      ]
    },
    {
      "cell_type": "code",
      "source": [
        "#Q.6) Write a generator function in Python that yields the powers of 2 up to a given exponent?\n",
        "\n",
        "def powers_of_two(max_exponent):\n",
        "    \"\"\"\n",
        "    Yields powers of 2 from 2^0 up to 2^max_exponent.\n",
        "\n",
        "    Args:\n",
        "        max_exponent (int): The maximum exponent to calculate powers of 2 for.\n",
        "                            Must be a non-negative integer.\n",
        "    \"\"\"\n",
        "    if max_exponent < 0:\n",
        "        raise ValueError(\"max_exponent must be a non-negative integer.\")\n",
        "\n",
        "    for i in range(max_exponent + 1):\n",
        "        yield 2 ** i"
      ],
      "metadata": {
        "id": "OP7GXCa89hJS"
      },
      "execution_count": null,
      "outputs": []
    },
    {
      "cell_type": "code",
      "source": [
        "#Q.7)  Implement a generator function that reads a file line by line and yields each line as a string.\n",
        "\n",
        "def read_file_lines(file_path):\n",
        "    \"\"\"\n",
        "    A generator function that reads a file line by line and yields each line.\n",
        "\n",
        "    Args:\n",
        "        file_path (str): The path to the file to be read.\n",
        "\n",
        "    Yields:\n",
        "        str: Each line from the file, including the newline character if present.\n",
        "    \"\"\"\n",
        "    try:\n",
        "        with open(file_path, 'r') as file:\n",
        "            for line in file:\n",
        "                yield line\n",
        "    except FileNotFoundError:\n",
        "        print(f\"Error: The file '{file_path}' was not found.\")\n",
        "    except Exception as e:\n",
        "        print(f\"An error occurred while reading the file: {e}\")\n",
        "\n",
        "# Example usage:\n",
        "if __name__ == \"__main__\":\n",
        "    # Create a dummy file for demonstration\n",
        "    with open(\"example.txt\", \"w\") as f:\n",
        "        f.write(\"This is line 1.\\n\")\n",
        "        f.write(\"This is line 2.\\n\")\n",
        "        f.write(\"This is line 3.\")\n",
        "\n",
        "    print(\"Reading 'example.txt' line by line:\")\n",
        "    for current_line in read_file_lines(\"example.txt\"):\n",
        "        print(current_line.strip())  # .strip() removes leading/trailing whitespace, including newline\n",
        "\n",
        "    print(\"\\nAttempting to read a non-existent file:\")\n",
        "    for current_line in read_file_lines(\"non_existent_file.txt\"):\n",
        "        print(current_line.strip())\n"
      ],
      "metadata": {
        "colab": {
          "base_uri": "https://localhost:8080/"
        },
        "id": "wfaFQ5a79s1K",
        "outputId": "6bb288de-76fd-4587-eb4b-3b35301e53ef"
      },
      "execution_count": 7,
      "outputs": [
        {
          "output_type": "stream",
          "name": "stdout",
          "text": [
            "Reading 'example.txt' line by line:\n",
            "This is line 1.\n",
            "This is line 2.\n",
            "This is line 3.\n",
            "\n",
            "Attempting to read a non-existent file:\n",
            "Error: The file 'non_existent_file.txt' was not found.\n"
          ]
        }
      ]
    },
    {
      "cell_type": "code",
      "source": [
        "#Q.8)  Use a lambda function in Python to sort a list of tuples based on the second element of each tuple.\n",
        "\n",
        "my_list_of_tuples = [('apple', 5), ('banana', 2), ('orange', 8), ('grape', 1)]\n",
        "sorted_list = sorted(my_list_of_tuples, key=lambda x: x[1])\n",
        "print(sorted_list)"
      ],
      "metadata": {
        "colab": {
          "base_uri": "https://localhost:8080/"
        },
        "id": "zvWazzyb-DVM",
        "outputId": "87511e8b-da3d-4da7-b807-cd4003cad7b6"
      },
      "execution_count": 8,
      "outputs": [
        {
          "output_type": "stream",
          "name": "stdout",
          "text": [
            "[('grape', 1), ('banana', 2), ('apple', 5), ('orange', 8)]\n"
          ]
        }
      ]
    },
    {
      "cell_type": "code",
      "source": [
        "#Q.9) Write a Python program that uses `map()` to convert a list of temperatures from Celsius to Fahrenheit.\n",
        "\n",
        "def celsius_to_fahrenheit(celsius):\n",
        "  \"\"\"Converts a temperature from Celsius to Fahrenheit.\"\"\"\n",
        "  return (celsius * 9/5) + 32\n",
        "\n",
        "def convert_temperatures(celsius_list):\n",
        "    \"\"\"Converts a list of Celsius temperatures to Fahrenheit using map().\"\"\"\n",
        "    fahrenheit_list = list(map(celsius_to_fahrenheit, celsius_list))\n",
        "    return fahrenheit_list\n",
        "\n",
        "# Example usage:\n",
        "celsius_temps = [0, 10, 20, 30, 40]\n",
        "fahrenheit_temps = convert_temperatures(celsius_temps)\n",
        "print(f\"Celsius temperatures: {celsius_temps}\")\n",
        "print(f\"Fahrenheit temperatures: {fahrenheit_temps}\")"
      ],
      "metadata": {
        "id": "7ASpGSvM-ONH"
      },
      "execution_count": null,
      "outputs": []
    },
    {
      "cell_type": "code",
      "source": [
        "#Q.10) Create a Python program that uses `filter()` to remove all the vowels from a given string.\n",
        "\n",
        "def remove_vowels(input_string):\n",
        "    vowels = 'aeiouAEIOU'\n",
        "    return ''.join(filter(lambda char: char not in vowels, input_string))\n",
        "\n",
        "# Example usage\n",
        "input_str = \"Hello, World!\"\n",
        "result = remove_vowels(input_str)\n",
        "print(result)"
      ],
      "metadata": {
        "colab": {
          "base_uri": "https://localhost:8080/"
        },
        "id": "b64_SKKX-kkO",
        "outputId": "bd74c870-ad9b-4c74-cdcb-cd09baffce9f"
      },
      "execution_count": 12,
      "outputs": [
        {
          "output_type": "stream",
          "name": "stdout",
          "text": [
            "Hll, Wrld!\n"
          ]
        }
      ]
    },
    {
      "cell_type": "code",
      "source": [],
      "metadata": {
        "id": "qtZ75fj2-3Om"
      },
      "execution_count": null,
      "outputs": []
    }
  ]
}